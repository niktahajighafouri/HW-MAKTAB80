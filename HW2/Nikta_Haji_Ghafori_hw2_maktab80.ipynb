{
 "cells": [
  {
   "cell_type": "code",
   "execution_count": 6,
   "metadata": {},
   "outputs": [
    {
     "name": "stdout",
     "output_type": "stream",
     "text": [
      "86.0\n"
     ]
    },
    {
     "data": {
      "text/plain": [
       "[68.0, 86.0, 104.0, 122.0]"
      ]
     },
     "execution_count": 6,
     "metadata": {},
     "output_type": "execute_result"
    }
   ],
   "source": [
    "#1\n",
    "def c_2_f(c):\n",
    "    return c * 9.0 / 5 + 32\n",
    "\n",
    "print(c_2_f(30))\n",
    "\n",
    "list1=[20,30,40,50]\n",
    "list(map(c_2_f,list1))\n"
   ]
  },
  {
   "cell_type": "code",
   "execution_count": 9,
   "metadata": {},
   "outputs": [
    {
     "name": "stdout",
     "output_type": "stream",
     "text": [
      "60\n"
     ]
    }
   ],
   "source": [
    "#2\n",
    "from functools import reduce\n",
    "list1 = [5, 3, 4]\n",
    "multiply = reduce((lambda x, y: x * y), list1)\n",
    "print(multiply)"
   ]
  },
  {
   "cell_type": "code",
   "execution_count": 15,
   "metadata": {},
   "outputs": [
    {
     "data": {
      "text/plain": [
       "True"
      ]
     },
     "execution_count": 15,
     "metadata": {},
     "output_type": "execute_result"
    }
   ],
   "source": [
    "#3\n",
    "def is_prime(n):\n",
    "    if n == 1:\n",
    "        return True\n",
    "    for i in range(2, n):\n",
    "        if n % i == 0:\n",
    "            return False\n",
    "    return True\n",
    "\n",
    "is_prime(1)"
   ]
  },
  {
   "cell_type": "code",
   "execution_count": 19,
   "metadata": {},
   "outputs": [
    {
     "name": "stdout",
     "output_type": "stream",
     "text": [
      "[(2, 1), (1, 2), (4, 4, 2), (2, 3), (2, 5, 6)]\n"
     ]
    }
   ],
   "source": [
    "#5\n",
    "Sample_List=[(2, 5 , 6), (1, 2), (4, 4 , 2), (2, 3), (2, 1)]\n",
    "def sort_list(list1):\n",
    "    return sorted(list1, key=lambda x: x[-1])\n",
    "\n",
    "print(sort_list(Sample_List))\n"
   ]
  },
  {
   "cell_type": "code",
   "execution_count": 20,
   "metadata": {},
   "outputs": [
    {
     "name": "stdout",
     "output_type": "stream",
     "text": [
      "{'g': 2, 'o': 3, 'l': 1, 'e': 1, '.': 1, 'c': 1, 'm': 1}\n"
     ]
    }
   ],
   "source": [
    "#6\n",
    "def char_freq(str1):\n",
    "    return {i: str1.count(i) for i in str1}\n",
    "    \n",
    "print(char_freq(\"google.com\"))\n",
    "\n"
   ]
  }
 ],
 "metadata": {
  "kernelspec": {
   "display_name": "Python 3.9.7 64-bit",
   "language": "python",
   "name": "python3"
  },
  "language_info": {
   "codemirror_mode": {
    "name": "ipython",
    "version": 3
   },
   "file_extension": ".py",
   "mimetype": "text/x-python",
   "name": "python",
   "nbconvert_exporter": "python",
   "pygments_lexer": "ipython3",
   "version": "3.9.7"
  },
  "orig_nbformat": 4,
  "vscode": {
   "interpreter": {
    "hash": "11938c6bc6919ae2720b4d5011047913343b08a43b18698fd82dedb0d4417594"
   }
  }
 },
 "nbformat": 4,
 "nbformat_minor": 2
}
