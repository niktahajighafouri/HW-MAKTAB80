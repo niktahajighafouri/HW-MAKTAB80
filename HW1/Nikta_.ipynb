{
 "cells": [
  {
   "cell_type": "code",
   "execution_count": 12,
   "metadata": {},
   "outputs": [],
   "source": [
    "\n",
    "import time\n",
    "class BirthDay1:\n",
    "    def __init__(self,day,month,year,hour):\n",
    "        self.day=day\n",
    "        self.month=month\n",
    "        self.year=year\n",
    "        self.hour=hour\n",
    "\n",
    "    def ageh(self):\n",
    "        seconds=time.time()-time.mktime((self.year,self.month,self.day,self.hour,0,0,0,0,0))\n",
    "        minutes = seconds / 60\n",
    "        # print(minutes)\n",
    "        hours = minutes / 60\n",
    "        # print(hours)\n",
    "        days = hours / 24\n",
    "        # print(days)\n",
    "        years = days / 365\n",
    "        # print(hours)\n",
    "        return hours\n",
    "    def age(self):\n",
    "        seconds=time.time()-time.mktime((self.year,self.month,self.day,self.hour,0,0,0,0,0))\n",
    "        minutes = seconds / 60\n",
    "        # print(minutes)\n",
    "        hours = minutes / 60\n",
    "        # print(hours)\n",
    "        days = hours / 24\n",
    "        # print(days)\n",
    "        years = days / 365\n",
    "        # print(years)\n",
    "        return years\n",
    "    def time(self):\n",
    "        seconds=time.time()-time.mktime((time.localtime( time.time() ).tm_year,self.month,self.day,self.hour,0,0,0,0,0))\n",
    "        minutes = seconds / 60\n",
    "        # print(minutes)\n",
    "        hours = minutes / 60\n",
    "        # print(hours)\n",
    "        days = hours / 24\n",
    "        # print(days)\n",
    "        years = days / 365\n",
    "        # print(years)\n",
    "        return days\n",
    "\n",
    "\n",
    "\n",
    "\n"
   ]
  },
  {
   "cell_type": "code",
   "execution_count": 13,
   "metadata": {},
   "outputs": [
    {
     "name": "stdout",
     "output_type": "stream",
     "text": [
      "27.64818160171236\n",
      "242198.07083100028\n",
      "229.58628463666471\n"
     ]
    }
   ],
   "source": [
    "#سنش به سال\n",
    "print(BirthDay1(1,1,1995,0).age())\n",
    "#سنش به ساعت\n",
    "print(BirthDay1(1,1,1995,0).ageh())\n",
    "#زمان مونده به تاریخ تولدش\n",
    "print(BirthDay1(1,1,1995,0).time())"
   ]
  }
 ],
 "metadata": {
  "kernelspec": {
   "display_name": "Python 3.9.7 64-bit",
   "language": "python",
   "name": "python3"
  },
  "language_info": {
   "codemirror_mode": {
    "name": "ipython",
    "version": 3
   },
   "file_extension": ".py",
   "mimetype": "text/x-python",
   "name": "python",
   "nbconvert_exporter": "python",
   "pygments_lexer": "ipython3",
   "version": "3.9.7"
  },
  "orig_nbformat": 4,
  "vscode": {
   "interpreter": {
    "hash": "11938c6bc6919ae2720b4d5011047913343b08a43b18698fd82dedb0d4417594"
   }
  }
 },
 "nbformat": 4,
 "nbformat_minor": 2
}
