{
 "cells": [
  {
   "cell_type": "code",
   "execution_count": 1,
   "metadata": {},
   "outputs": [
    {
     "name": "stdout",
     "output_type": "stream",
     "text": [
      "NiktaHajiGhafori\n"
     ]
    }
   ],
   "source": [
    "#1.\n",
    "# str1=\"Nikta Haji Ghafori\"\n",
    "str1=input(\"please write the text:\")\n",
    "str2=str1.replace(\" \",\"\")\n",
    "print(str2)"
   ]
  },
  {
   "cell_type": "code",
   "execution_count": 3,
   "metadata": {},
   "outputs": [
    {
     "name": "stdout",
     "output_type": "stream",
     "text": [
      "N.kt. H.j. Gh.f.r.\n"
     ]
    }
   ],
   "source": [
    "ListReplace=[\"a\",\"e\",\"i\",\"o\",\"u\"]\n",
    "str3=str1\n",
    "for i in ListReplace:\n",
    "    str3=str3.replace(i,\".\") \n",
    "print(str3)\n"
   ]
  },
  {
   "cell_type": "code",
   "execution_count": 8,
   "metadata": {},
   "outputs": [
    {
     "name": "stdout",
     "output_type": "stream",
     "text": [
      "54321\n",
      "\n",
      "4321\n",
      "\n",
      "321\n",
      "\n",
      "21\n",
      "\n"
     ]
    }
   ],
   "source": [
    "#3. \n",
    "for i in reversed(range(1,6)):\n",
    "    if i==1:\n",
    "        break\n",
    "    for j in reversed(range(1,i+1)):\n",
    "        print(j,end=\"\")\n",
    "    print(\"\\n\")"
   ]
  },
  {
   "cell_type": "code",
   "execution_count": 32,
   "metadata": {},
   "outputs": [
    {
     "name": "stdout",
     "output_type": "stream",
     "text": [
      "[1, 2, 8, 3, 4, 5, 6, 7, 9, 10]\n"
     ]
    }
   ],
   "source": [
    "#3. \n",
    "list1=[1,2,8,3,4,5,6,6,7,8,9,10,5,6,7,8]\n",
    "\n",
    "for i in list1:\n",
    "    number=0\n",
    "    for index,j in enumerate(list1):\n",
    "        if i==j:\n",
    "            number+=1\n",
    "            if number>=2:\n",
    "                list1.pop(index)\n",
    "print(list1)"
   ]
  },
  {
   "cell_type": "code",
   "execution_count": 35,
   "metadata": {},
   "outputs": [
    {
     "name": "stdout",
     "output_type": "stream",
     "text": [
      "24567\n"
     ]
    }
   ],
   "source": [
    "#5. \n",
    "str1=\"76542\"\n",
    "str2=str1[::-1]\n",
    "print(str2)\n",
    "\n"
   ]
  },
  {
   "cell_type": "code",
   "execution_count": 40,
   "metadata": {},
   "outputs": [
    {
     "name": "stdout",
     "output_type": "stream",
     "text": [
      "Hello Nikta!\n"
     ]
    }
   ],
   "source": [
    "#6. \n",
    "Username=input(\"Enter Username: \")\n",
    "password=input(\"Enter password: \")\n",
    "name=\"Nikta\"\n",
    "if Username==\"admin\" and password==\"admin\":\n",
    "    print(\"Welcome on Admin\")\n",
    "elif Username==\"admin\" and password!=\"admin\":\n",
    "    print(\"Wrong\")\n",
    "else:\n",
    "    print(f\"Hello {name}!\")\n"
   ]
  }
 ],
 "metadata": {
  "kernelspec": {
   "display_name": "Python 3.9.7 64-bit",
   "language": "python",
   "name": "python3"
  },
  "language_info": {
   "codemirror_mode": {
    "name": "ipython",
    "version": 3
   },
   "file_extension": ".py",
   "mimetype": "text/x-python",
   "name": "python",
   "nbconvert_exporter": "python",
   "pygments_lexer": "ipython3",
   "version": "3.9.7"
  },
  "orig_nbformat": 4,
  "vscode": {
   "interpreter": {
    "hash": "11938c6bc6919ae2720b4d5011047913343b08a43b18698fd82dedb0d4417594"
   }
  }
 },
 "nbformat": 4,
 "nbformat_minor": 2
}
